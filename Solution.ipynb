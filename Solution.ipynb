{
 "cells": [
  {
   "cell_type": "markdown",
   "id": "377f4d59-f591-460d-be0c-d4b110deb389",
   "metadata": {},
   "source": [
    "### Basic SQL with Sakila"
   ]
  },
  {
   "cell_type": "markdown",
   "id": "9601addc-c037-47ad-9a92-1b12c057cb71",
   "metadata": {},
   "source": [
    "### 1. Basic `SELECT`"
   ]
  },
  {
   "cell_type": "markdown",
   "id": "453071bc-d49e-48b7-8e0d-67d30ebc44bf",
   "metadata": {},
   "source": [
    "##### 1. Select the the columns `first_name`, `last_name` and `email` from the table customers\n",
    "\n",
    "Write a query to select the columns `first_name`, `last_name` and `email` from the table `customers`. Your result should look something like:\n",
    "\n",
    "<img src=\"images/actiivty-1-customers.png\" width=\"300px\">"
   ]
  },
  {
   "cell_type": "code",
   "execution_count": null,
   "id": "d6d1f858-df18-49f8-bdd0-8b14e4d963f8",
   "metadata": {},
   "outputs": [],
   "source": [
    "# your query"
   ]
  },
  {
   "cell_type": "markdown",
   "id": "a2043158-7743-4536-8517-0166f9e6b49d",
   "metadata": {},
   "source": [
    "Solution:"
   ]
  },
  {
   "cell_type": "markdown",
   "id": "c78626d1-2385-4beb-b76f-6d77252882a9",
   "metadata": {},
   "source": [
    "```sql\n",
    "SELECT first_name, last_name, email FROM `customer`;\n",
    "```"
   ]
  },
  {
   "cell_type": "markdown",
   "id": "ce2d604f-e66b-486d-8ff4-ab8a0885ad1e",
   "metadata": {},
   "source": [
    "##### 2. Add the aliases `First Name`, `Last Name` and `Email` to your previous query\n",
    "\n",
    "Modify your previous query to add the aliases `First Name`, `Last Name` and `Email`. Your result should look something like:\n",
    "\n",
    "<img src=\"images/activity-2-aliases.png\" width=\"300px\">"
   ]
  },
  {
   "cell_type": "code",
   "execution_count": null,
   "id": "d2c5e803-8be8-4fd0-8115-001feee9cd10",
   "metadata": {},
   "outputs": [],
   "source": []
  },
  {
   "cell_type": "markdown",
   "id": "7a32a8eb-0723-41bb-a17e-4f33e48ca39d",
   "metadata": {},
   "source": [
    "Solution:"
   ]
  },
  {
   "cell_type": "markdown",
   "id": "69bb9e87-75b7-4fb3-96b3-ec30e63b6813",
   "metadata": {},
   "source": [
    "```sql\n",
    "SELECT first_name as \"First Name\", last_name as \"Last Name\", email as Email FROM `customer`;\n",
    "```"
   ]
  },
  {
   "cell_type": "markdown",
   "id": "8c266e17-7575-4e30-9975-136a00248842",
   "metadata": {},
   "source": [
    "### Basic Filtering with `WHERE`"
   ]
  },
  {
   "cell_type": "markdown",
   "id": "ff8a1925-8d89-4607-9c93-a18fdf712b7f",
   "metadata": {},
   "source": [
    "##### 3. What's the email of customer number 135?\n",
    "\n",
    "> **Note for Project Authors**: This is an example of a multiple choice question.\n",
    "\n",
    "- [ ] MARY.SMITH@sakilacustomer.org\n",
    "- [ ] PETER.WALKER@sakilacustomer.org\n",
    "- [ ] JESSICA.THOMSON@sakilacustomer.org\n",
    "- [x] JUANITA.MASON@sakilacustomer.org (correct)"
   ]
  },
  {
   "cell_type": "code",
   "execution_count": null,
   "id": "153a7ffc-58db-46ca-9736-bf8f9cb7eab0",
   "metadata": {},
   "outputs": [],
   "source": []
  },
  {
   "cell_type": "markdown",
   "id": "e5be61c4-bc9c-4b44-8e51-9335be126837",
   "metadata": {},
   "source": [
    "Solution:"
   ]
  },
  {
   "cell_type": "markdown",
   "id": "717656cd-4279-4cb2-8d7a-be1e473d9dd3",
   "metadata": {},
   "source": [
    "The answer is `JUANITA.MASON@sakilacustomer.org`. We can get this by filtering the `customer_id` column being equal to `135`:\n",
    "\n",
    "```sql\n",
    "SELECT\n",
    "   email\n",
    "FROM\n",
    "   sakila.customer\n",
    "WHERE\n",
    "   customer_id = 135;\n",
    "```"
   ]
  }
 ],
 "metadata": {
  "kernelspec": {
   "display_name": "Python 3 (ipykernel)",
   "language": "python",
   "name": "python3"
  },
  "language_info": {
   "codemirror_mode": {
    "name": "ipython",
    "version": 3
   },
   "file_extension": ".py",
   "mimetype": "text/x-python",
   "name": "python",
   "nbconvert_exporter": "python",
   "pygments_lexer": "ipython3",
   "version": "3.11.4"
  }
 },
 "nbformat": 4,
 "nbformat_minor": 5
}
