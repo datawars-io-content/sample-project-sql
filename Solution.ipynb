{
 "cells": [
  {
   "cell_type": "markdown",
   "id": "377f4d59-f591-460d-be0c-d4b110deb389",
   "metadata": {},
   "source": [
    "### Basic SQL with Sakila"
   ]
  },
  {
   "cell_type": "markdown",
   "id": "9601addc-c037-47ad-9a92-1b12c057cb71",
   "metadata": {},
   "source": [
    "### 1. Basic `SELECT`"
   ]
  },
  {
   "cell_type": "markdown",
   "id": "453071bc-d49e-48b7-8e0d-67d30ebc44bf",
   "metadata": {},
   "source": [
    "##### 1. Select the the columns `first_name`, `last_name` and `email` from the table customers\n",
    "\n",
    "Write a query to select the columns `first_name`, `last_name` and `email` from the table `customers`. Your result should look something like:\n",
    "\n",
    "<img src=\"images/actiivty-1-customers.png\" width=\"300px\">"
   ]
  },
  {
   "cell_type": "code",
   "execution_count": null,
   "id": "d6d1f858-df18-49f8-bdd0-8b14e4d963f8",
   "metadata": {},
   "outputs": [],
   "source": [
    "# your query"
   ]
  },
  {
   "cell_type": "markdown",
   "id": "a2043158-7743-4536-8517-0166f9e6b49d",
   "metadata": {},
   "source": [
    "Solution:"
   ]
  },
  {
   "cell_type": "markdown",
   "id": "c78626d1-2385-4beb-b76f-6d77252882a9",
   "metadata": {},
   "source": [
    "```sql\n",
    "SELECT first_name, last_name, email FROM `customer`;\n",
    "```"
   ]
  },
  {
   "cell_type": "markdown",
   "id": "ce2d604f-e66b-486d-8ff4-ab8a0885ad1e",
   "metadata": {},
   "source": [
    "##### 2. Add the aliases `First Name`, `Last Name` and `Email` to your previous query\n",
    "\n",
    "Modify your previous query to add the aliases `First Name`, `Last Name` and `Email`. Your result should look something like:\n",
    "\n",
    "<img src=\"images/activity-2-aliases.png\" width=\"300px\">"
   ]
  },
  {
   "cell_type": "code",
   "execution_count": null,
   "id": "d2c5e803-8be8-4fd0-8115-001feee9cd10",
   "metadata": {},
   "outputs": [],
   "source": []
  },
  {
   "cell_type": "markdown",
   "id": "7a32a8eb-0723-41bb-a17e-4f33e48ca39d",
   "metadata": {},
   "source": [
    "Solution:"
   ]
  },
  {
   "cell_type": "markdown",
   "id": "69bb9e87-75b7-4fb3-96b3-ec30e63b6813",
   "metadata": {},
   "source": [
    "```sql\n",
    "SELECT first_name as \"First Name\", last_name as \"Last Name\", email as Email FROM `customer`;\n",
    "```"
   ]
  },
  {
   "cell_type": "markdown",
   "id": "8c266e17-7575-4e30-9975-136a00248842",
   "metadata": {},
   "source": [
    "### Basic Filtering with `WHERE`"
   ]
  },
  {
   "cell_type": "markdown",
   "id": "ff8a1925-8d89-4607-9c93-a18fdf712b7f",
   "metadata": {},
   "source": [
    "##### 3. What's the email of customer number 135?\n",
    "\n",
    "> **Note for Project Authors**: This is an example of a multiple choice question.\n",
    "\n",
    "- [ ] MARY.SMITH@sakilacustomer.org\n",
    "- [ ] PETER.WALKER@sakilacustomer.org\n",
    "- [ ] JESSICA.THOMSON@sakilacustomer.org\n",
    "- [x] JUANITA.MASON@sakilacustomer.org (correct)"
   ]
  },
  {
   "cell_type": "code",
   "execution_count": null,
   "id": "153a7ffc-58db-46ca-9736-bf8f9cb7eab0",
   "metadata": {},
   "outputs": [],
   "source": []
  },
  {
   "cell_type": "markdown",
   "id": "e5be61c4-bc9c-4b44-8e51-9335be126837",
   "metadata": {},
   "source": [
    "Solution:"
   ]
  },
  {
   "cell_type": "markdown",
   "id": "717656cd-4279-4cb2-8d7a-be1e473d9dd3",
   "metadata": {},
   "source": [
    "The answer is `JUANITA.MASON@sakilacustomer.org`. We can get this by filtering the `customer_id` column being equal to `135`:\n",
    "\n",
    "```sql\n",
    "SELECT\n",
    "   email\n",
    "FROM\n",
    "   sakila.customer\n",
    "WHERE\n",
    "   customer_id = 135;\n",
    "```"
   ]
  },
  {
   "cell_type": "markdown",
   "id": "b602ac95-50e5-4184-bb5d-1cd5ed6a2705",
   "metadata": {},
   "source": [
    "##### 5. Checking for null values.\n",
    "\n",
    "Write a SQL query that selects the columns `payment_id` and `customer_id` from the table payment where the `rental_id` column is empty.\n",
    "\n"
   ]
  },
  {
   "cell_type": "code",
   "execution_count": null,
   "id": "89bf3346-591a-4a1d-8454-5e8328ddf43c",
   "metadata": {},
   "outputs": [],
   "source": [
    "QUERY_5 = \"\"\"\n",
    "-- Insert your query code\n",
    "\"\"\""
   ]
  },
  {
   "cell_type": "markdown",
   "id": "6a205759-c40d-4de7-bd41-3688f1851e5e",
   "metadata": {},
   "source": [
    "Check if your query works:"
   ]
  },
  {
   "cell_type": "code",
   "execution_count": null,
   "id": "e53db3ac-978b-4c0a-9d68-ca765952f00f",
   "metadata": {},
   "outputs": [],
   "source": [
    "pd.read_sql(QUERY_5, conn)"
   ]
  },
  {
   "cell_type": "markdown",
   "id": "9ab480c8-942a-486e-b0e6-0065236c5990",
   "metadata": {},
   "source": [
    "Solution:"
   ]
  },
  {
   "cell_type": "code",
   "execution_count": null,
   "id": "821f1351-7ca3-46a4-8308-1f88593f40a9",
   "metadata": {},
   "outputs": [],
   "source": [
    "SELECT payment_id, customer_id\n",
    "FROM sakila.payment\n",
    "WHERE rental_id IS NULL;"
   ]
  },
  {
   "cell_type": "markdown",
   "id": "e4569182-e915-4d6e-9eae-3740cf3116c8",
   "metadata": {},
   "source": [
    "Assertions:"
   ]
  },
  {
   "cell_type": "code",
   "execution_count": null,
   "id": "1d82d3d9-876c-413e-ad21-182a239eaae6",
   "metadata": {},
   "outputs": [],
   "source": [
    "cursor = conn.cursor()\n",
    "cursor.execute(QUERY_5)\n",
    "student_output = cursor.fetchall()\n",
    "\n",
    "EXPECTED_QUERY_5 = \"\"\"\n",
    "SELECT payment_id, customer_id\n",
    "FROM sakila.payment\n",
    "WHERE rental_id IS NULL;\"\"\"\n",
    "\n",
    "cursor = conn.cursor()\n",
    "cursor.execute(EXPECTED_QUERY_5)\n",
    "expected_output = cursor.fetchall()\n",
    "\n",
    "assert student_output == expected_output, \"Your query doesn't match\""
   ]
  }
 ],
 "metadata": {
  "kernelspec": {
   "display_name": "Python 3 (ipykernel)",
   "language": "python",
   "name": "python3"
  },
  "language_info": {
   "codemirror_mode": {
    "name": "ipython",
    "version": 3
   },
   "file_extension": ".py",
   "mimetype": "text/x-python",
   "name": "python",
   "nbconvert_exporter": "python",
   "pygments_lexer": "ipython3",
   "version": "3.11.4"
  }
 },
 "nbformat": 4,
 "nbformat_minor": 5
}
