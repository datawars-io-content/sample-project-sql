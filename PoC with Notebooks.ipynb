{
 "cells": [
  {
   "cell_type": "code",
   "execution_count": 1,
   "id": "0d7c7373-f0c2-4758-b878-d85cd0c16acd",
   "metadata": {},
   "outputs": [],
   "source": [
    "import sqlite3\n",
    "import pandas as pd"
   ]
  },
  {
   "cell_type": "code",
   "execution_count": 2,
   "id": "912986fc-332a-46f7-a4e6-508e88467355",
   "metadata": {},
   "outputs": [],
   "source": [
    "conn = sqlite3.connect('Chinook.sqlite')"
   ]
  },
  {
   "cell_type": "markdown",
   "id": "34a57c5c-f0c5-45d8-bd56-bfe73221c48c",
   "metadata": {},
   "source": [
    "##### 1. Select customers that are NOT from the USA\n",
    "\n",
    "Select the First Name, Last Name, and Country of customers that are NOT from the `USA`. It should look something like:"
   ]
  },
  {
   "cell_type": "code",
   "execution_count": 5,
   "id": "459aa9e0-411a-472b-b11f-cfbe076b1381",
   "metadata": {},
   "outputs": [
    {
     "data": {
      "text/html": [
       "<div>\n",
       "<style scoped>\n",
       "    .dataframe tbody tr th:only-of-type {\n",
       "        vertical-align: middle;\n",
       "    }\n",
       "\n",
       "    .dataframe tbody tr th {\n",
       "        vertical-align: top;\n",
       "    }\n",
       "\n",
       "    .dataframe thead th {\n",
       "        text-align: right;\n",
       "    }\n",
       "</style>\n",
       "<table border=\"1\" class=\"dataframe\">\n",
       "  <thead>\n",
       "    <tr style=\"text-align: right;\">\n",
       "      <th></th>\n",
       "      <th>FirstName</th>\n",
       "      <th>LastName</th>\n",
       "      <th>Country</th>\n",
       "    </tr>\n",
       "  </thead>\n",
       "  <tbody>\n",
       "    <tr>\n",
       "      <th>0</th>\n",
       "      <td>Luís</td>\n",
       "      <td>Gonçalves</td>\n",
       "      <td>Brazil</td>\n",
       "    </tr>\n",
       "    <tr>\n",
       "      <th>1</th>\n",
       "      <td>Leonie</td>\n",
       "      <td>Köhler</td>\n",
       "      <td>Germany</td>\n",
       "    </tr>\n",
       "    <tr>\n",
       "      <th>2</th>\n",
       "      <td>François</td>\n",
       "      <td>Tremblay</td>\n",
       "      <td>Canada</td>\n",
       "    </tr>\n",
       "    <tr>\n",
       "      <th>3</th>\n",
       "      <td>Bjørn</td>\n",
       "      <td>Hansen</td>\n",
       "      <td>Norway</td>\n",
       "    </tr>\n",
       "    <tr>\n",
       "      <th>4</th>\n",
       "      <td>František</td>\n",
       "      <td>Wichterlová</td>\n",
       "      <td>Czech Republic</td>\n",
       "    </tr>\n",
       "  </tbody>\n",
       "</table>\n",
       "</div>"
      ],
      "text/plain": [
       "   FirstName     LastName         Country\n",
       "0       Luís    Gonçalves          Brazil\n",
       "1     Leonie       Köhler         Germany\n",
       "2   François     Tremblay          Canada\n",
       "3      Bjørn       Hansen          Norway\n",
       "4  František  Wichterlová  Czech Republic"
      ]
     },
     "execution_count": 5,
     "metadata": {},
     "output_type": "execute_result"
    }
   ],
   "source": []
  },
  {
   "cell_type": "code",
   "execution_count": null,
   "id": "8e78d6ba-1b5b-4f1c-a607-8b77294ec2c1",
   "metadata": {},
   "outputs": [],
   "source": [
    "QUERY_1 = \"\"\"\n",
    "--- your query\n",
    "\"\"\""
   ]
  },
  {
   "cell_type": "markdown",
   "id": "ce4006fe-2e47-4b82-b176-fd1128fb5ace",
   "metadata": {},
   "source": [
    "Try it yourself:"
   ]
  },
  {
   "cell_type": "code",
   "execution_count": null,
   "id": "e5c67201-510e-4849-9ace-bb7a7d5b48ac",
   "metadata": {},
   "outputs": [],
   "source": [
    "pd.read_sql(QUERY_1, conn).head()"
   ]
  },
  {
   "cell_type": "markdown",
   "id": "dbd65fca-4dba-4f1e-a182-41ebab39362c",
   "metadata": {},
   "source": [
    "Solution:"
   ]
  },
  {
   "cell_type": "code",
   "execution_count": 3,
   "id": "01c619a6-bba0-4111-8c61-c1dbba74e785",
   "metadata": {},
   "outputs": [],
   "source": [
    "QUERY_1 = \"\"\"\n",
    "SELECT c.FirstName, c.LastName, c.Country\n",
    "from Customer c\n",
    "WHERE c.Country <> \"USA\"\n",
    "\"\"\""
   ]
  }
 ],
 "metadata": {
  "kernelspec": {
   "display_name": "Python 3 (ipykernel)",
   "language": "python",
   "name": "python3"
  },
  "language_info": {
   "codemirror_mode": {
    "name": "ipython",
    "version": 3
   },
   "file_extension": ".py",
   "mimetype": "text/x-python",
   "name": "python",
   "nbconvert_exporter": "python",
   "pygments_lexer": "ipython3",
   "version": "3.11.4"
  }
 },
 "nbformat": 4,
 "nbformat_minor": 5
}
